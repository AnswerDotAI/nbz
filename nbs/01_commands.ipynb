{
 "cells": [
  {
   "cell_type": "markdown",
   "id": "38398c24",
   "metadata": {},
   "source": [
    "# commands\n",
    "\n",
    "> Commands are used to harness the power of nbdev."
   ]
  },
  {
   "cell_type": "code",
   "execution_count": null,
   "id": "96d68809",
   "metadata": {},
   "outputs": [],
   "source": [
    "#| default_exp commands"
   ]
  },
  {
   "cell_type": "code",
   "execution_count": null,
   "id": "d43ec58c",
   "metadata": {},
   "outputs": [],
   "source": [
    "#| export\n",
    "import types, pathlib, os\n",
    "from functools import wraps\n",
    "import typer\n",
    "from typing_extensions import Annotated\n",
    "from fastcore.docments import *\n",
    "from fastcore.meta import delegates\n",
    "from fastcore.script import call_parse\n",
    "from fastcore.utils import *\n",
    "from rich import print"
   ]
  },
  {
   "cell_type": "code",
   "execution_count": null,
   "id": "aeb38b21",
   "metadata": {},
   "outputs": [],
   "source": [
    "#| export\n",
    "from nbdev import cli, release, config, quarto, doclinks, merge, migrate, sync\n",
    "from nbdev import clean as nbclean\n",
    "from nbdev import test as nbtest"
   ]
  },
  {
   "cell_type": "code",
   "execution_count": null,
   "id": "046e240d",
   "metadata": {},
   "outputs": [],
   "source": [
    "#| export\n",
    "# remove callparse\n",
    "nbdev_new = cli.nbdev_new.__wrapped__\n",
    "\n",
    "@delegates(nbdev_new)\n",
    "def new(\n",
    "    target: Annotated[pathlib.Path, typer.Argument(help=\"Path to create project\")],\n",
    "    **kwargs):\n",
    "    \"\"\"\n",
    "    Create an nbdev project. Examples:\n",
    "    \n",
    "    * In your current directory: `nbz new .`\n",
    "    \n",
    "    * In a different directory: `nbz new my-project`\n",
    "    \n",
    "    ---\n",
    "    \n",
    "    Learn more [nbz.answer.ai/commands#new](https://nbz.answer.ai/commands#new)\n",
    "    \"\"\"\n",
    "    # kwargs['path'] = str(path)\n",
    "    print(f'Changing directory to {target}')\n",
    "    olddir = pathlib.Path('.')\n",
    "    os.chdir(target)\n",
    "    resp=nbdev_new(**kwargs)\n",
    "    os.chdir(olddir)\n",
    "    print(f'Changing directory back')\n",
    "    return resp\n",
    "new.rich_help_panel = 'Getting started'\n",
    "new.no_args_is_help=False\n"
   ]
  }
 ],
 "metadata": {
  "kernelspec": {
   "display_name": "python3",
   "language": "python",
   "name": "python3"
  }
 },
 "nbformat": 4,
 "nbformat_minor": 5
}
