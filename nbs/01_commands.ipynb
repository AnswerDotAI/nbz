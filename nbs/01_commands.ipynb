{
 "cells": [
  {
   "cell_type": "markdown",
   "id": "38398c24",
   "metadata": {},
   "source": [
    "# commands\n",
    "\n",
    "> Commands are used to harness the power of nbdev."
   ]
  },
  {
   "cell_type": "code",
   "execution_count": null,
   "id": "96d68809",
   "metadata": {},
   "outputs": [],
   "source": [
    "#| default_exp commands"
   ]
  },
  {
   "cell_type": "code",
   "execution_count": null,
   "id": "d43ec58c",
   "metadata": {},
   "outputs": [],
   "source": [
    "#| export\n",
    "import types, pathlib, os\n",
    "from functools import wraps\n",
    "import typer\n",
    "from typing_extensions import Annotated\n",
    "from fastcore.docments import *\n",
    "from fastcore.meta import delegates\n",
    "from fastcore.script import call_parse\n",
    "from fastcore.utils import *\n",
    "from rich import print\n",
    "from rich.console import Console\n",
    "from shutil import which"
   ]
  },
  {
   "cell_type": "code",
   "execution_count": null,
   "id": "aeb38b21",
   "metadata": {},
   "outputs": [],
   "source": [
    "#| export\n",
    "from nbdev import cli, release, config, quarto, doclinks, merge, migrate, sync\n",
    "from nbdev import clean as nbclean\n",
    "from nbdev import test as nbtest"
   ]
  },
  {
   "cell_type": "code",
   "execution_count": null,
   "id": "ffbc94be",
   "metadata": {},
   "outputs": [],
   "source": [
    "#| export\n",
    "console = Console(style='bold')\n",
    "error_console = Console(stderr=True, style=\"bold red\")"
   ]
  },
  {
   "cell_type": "markdown",
   "id": "3ef65b36",
   "metadata": {},
   "source": [
    "## Utilities"
   ]
  },
  {
   "cell_type": "code",
   "execution_count": null,
   "id": "202fd09a",
   "metadata": {},
   "outputs": [],
   "source": [
    "#| export\n",
    "from fastcore.imports import *\n",
    "import inspect"
   ]
  },
  {
   "cell_type": "code",
   "execution_count": null,
   "id": "07d02e15",
   "metadata": {},
   "outputs": [],
   "source": [
    "#| export\n",
    "def delegates_sorted(to:FunctionType=None, # Delegatee\n",
    "              keep=False, # Keep `kwargs` in decorated function?\n",
    "              but:list=None): # Exclude these parameters from signature\n",
    "    \"Decorator: replace `**kwargs` in signature with params from `to`. Sorts arguments.\"\n",
    "    if but is None: but = []\n",
    "    def _f(f):\n",
    "        if to is None: to_f,from_f = f.__base__.__init__,f.__init__\n",
    "        else:          to_f,from_f = to.__init__ if isinstance(to,type) else to,f\n",
    "        from_f = getattr(from_f,'__func__',from_f)\n",
    "        to_f = getattr(to_f,'__func__',to_f)\n",
    "        if hasattr(from_f,'__delwrap__'): return f\n",
    "        sig = inspect.signature(from_f)\n",
    "        sigd = dict(sig.parameters)\n",
    "        k = sigd.pop('kwargs')\n",
    "        s2 = {k:v.replace(kind=inspect.Parameter.KEYWORD_ONLY) for k,v in inspect.signature(to_f).parameters.items()\n",
    "              if v.default != inspect.Parameter.empty and k not in sigd and k not in but}\n",
    "        s2 = dict(sorted(s2.items()))\n",
    "        anno = {k:v for k,v in getattr(to_f, \"__annotations__\", {}).items() if k not in sigd and k not in but}\n",
    "        sigd.update(s2)\n",
    "        if keep: sigd['kwargs'] = k\n",
    "        else: from_f.__delwrap__ = to_f\n",
    "        from_f.__signature__ = sig.replace(parameters=sigd.values())\n",
    "        if hasattr(from_f, '__annotations__'): from_f.__annotations__.update(anno)\n",
    "        return f\n",
    "    return _f"
   ]
  },
  {
   "cell_type": "markdown",
   "id": "27fa16a9",
   "metadata": {},
   "source": [
    "## Commands"
   ]
  },
  {
   "cell_type": "code",
   "execution_count": null,
   "id": "e9f8d2e6",
   "metadata": {},
   "outputs": [],
   "source": [
    "#| export\n",
    "nbdev_bump_version = release.nbdev_bump_version.__wrapped__ # remove callparse\n",
    "\n",
    "@delegates(release.nbdev_bump_version)\n",
    "def bump_version(**kwargs):\n",
    "    \"\"\"\n",
    "    Bump the version of a project in `settings.ini` and `__version__` within `__init__.py`.\n",
    "    \n",
    "    Usage:    \n",
    "    \n",
    "    * `nbz bump-version` will increment a 0.0.1 to 0.0.2\n",
    "    \n",
    "    * `nbz bump-version --part 1` will increment a 0.0.1 to 0.1.0    \n",
    "    \n",
    "    * `nbz bump-version --part 0` will increment a 0.0.1 to 1.0.0\n",
    "    \n",
    "    * `nbz bump-version --unbump` will restore the previous version until it has been saved by git.\n",
    "    \n",
    "    ---\n",
    "    \n",
    "    Learn more [nbz.answer.ai/commands#version-bump](https://nbz.answer.ai/commands#version-bump)\n",
    "    \"\"\"        \n",
    "    return nbdev_bump_version(**kwargs)\n",
    "bump_version.rich_help_panel = 'nbdev.release'\n",
    "bump_version.no_args_is_help=False"
   ]
  },
  {
   "cell_type": "code",
   "execution_count": null,
   "id": "23e6ae8c",
   "metadata": {},
   "outputs": [],
   "source": [
    "#| export\n",
    "def check():\n",
    "    \"\"\"\n",
    "    Check that all the components are configured.\n",
    "    \n",
    "    Usage:    \n",
    "    \n",
    "    * `nbz check`\n",
    "    \n",
    "    ---\n",
    "    \n",
    "    Learn more [nbz.answer.ai/commands#check](https://nbz.answer.ai/commands#check)\n",
    "    \"\"\"\n",
    "    errors=[]\n",
    "    \n",
    "    if which('quarto') is None:\n",
    "        errors.append('[red]Quarto not yet installed.[/red]\\n    Fix: [b]nbz install-quarto[/b]')\n",
    "        \n",
    "    if not os.getenv('GITHUB_TOKEN') and not os.getenv('GITHUB_JWT_TOKEN'): \n",
    "        errors.append('[red]No github token.[/red]\\n    Fix: [b]Set environment variable for GITHUB_TOKEN or GITHUB_JWT_TOKEN[/b]')\n",
    "        \n",
    "    try: \n",
    "        from twine import settings\n",
    "        import keyring      \n",
    "#         cfg = settings.get_repository_config('pypi')\n",
    "#         console.print(cfg)\n",
    "#         creds = settings.get_credentials('pypi')\n",
    "#         if bool(creds.username and creds.password) is False:\n",
    "#             errors.append('[red]pypi access not setup.[/red]\\n    Fix: [b]See https://packaging.python.org/en/latest/guides/distributing-packages-using-setuptools/#create-an-account[/b]')\n",
    "    except ImportError:\n",
    "        errors.append('[red]twine not installed.[/red]\\n    Fix: [b]pip install twine[/b]')\n",
    "    \n",
    "    if errors:\n",
    "        error_console.print('ERROR: nbdev not fully configured yet.')\n",
    "        for i, error in enumerate(errors): console.print(f'{i+1}. {error}')\n",
    "        raise typer.Exit(code=1)\n",
    "    console.print('[b]Check passed![/b]')\n",
    "check.rich_help_panel = 'Getting started'\n",
    "check.no_args_is_help=False"
   ]
  },
  {
   "cell_type": "code",
   "execution_count": null,
   "id": "046e240d",
   "metadata": {},
   "outputs": [],
   "source": [
    "#| export\n",
    "nbdev_new = cli.nbdev_new.__wrapped__ # remove callparse\n",
    "\n",
    "@delegates_sorted(nbdev_new)\n",
    "def new(\n",
    "    target: Annotated[pathlib.Path, typer.Argument(help=\"Path to create project\")],\n",
    "    **kwargs):\n",
    "    \"\"\"\n",
    "    Create an nbdev project. If the target directory does not exist, it creates it.\n",
    "    \n",
    "    Usage:\n",
    "    \n",
    "    * In your current directory: `nbz new .`\n",
    "    \n",
    "    * In a different directory: `nbz new my-project`\n",
    "    \n",
    "    ---\n",
    "    \n",
    "    Learn more [nbz.answer.ai/commands#new](https://nbz.answer.ai/commands#new)\n",
    "    \"\"\"\n",
    "    if not target.exists(): \n",
    "        console.print(f'Creating {target} directory')\n",
    "        target.mkdir()\n",
    "    console.print(f'Changing directory to {target}')\n",
    "    olddir = pathlib.Path('.')\n",
    "    os.chdir(target)\n",
    "    resp=nbdev_new(**kwargs)\n",
    "    os.chdir(olddir)\n",
    "    console.print(f'Changing directory back')\n",
    "    return resp\n",
    "new.rich_help_panel = 'Getting started'\n",
    "new.no_args_is_help=False\n"
   ]
  },
  {
   "cell_type": "code",
   "execution_count": null,
   "id": "5f1dda42",
   "metadata": {},
   "outputs": [],
   "source": [
    "path = pathlib.Path()\n",
    "path.exists"
   ]
  },
  {
   "cell_type": "code",
   "execution_count": null,
   "id": "aefe68cb",
   "metadata": {},
   "outputs": [],
   "source": [
    "#| hide\n",
    "import nbdev; nbdev.nbdev_export()"
   ]
  }
 ],
 "metadata": {
  "kernelspec": {
   "display_name": "python3",
   "language": "python",
   "name": "python3"
  }
 },
 "nbformat": 4,
 "nbformat_minor": 5
}
