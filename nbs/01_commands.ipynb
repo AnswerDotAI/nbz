{
 "cells": [
  {
   "cell_type": "markdown",
   "id": "38398c24",
   "metadata": {},
   "source": [
    "# commands\n",
    "\n",
    "> Commands are used to harness the power of nbdev."
   ]
  },
  {
   "cell_type": "code",
   "execution_count": null,
   "id": "96d68809",
   "metadata": {},
   "outputs": [],
   "source": [
    "#| default_exp commands"
   ]
  },
  {
   "cell_type": "code",
   "execution_count": null,
   "id": "d43ec58c",
   "metadata": {},
   "outputs": [],
   "source": [
    "#| export\n",
    "import types, pathlib\n",
    "from functools import wraps\n",
    "import typer\n",
    "from typing_extensions import Annotated\n",
    "from fastcore.docments import *\n",
    "from fastcore.meta import delegates\n",
    "from fastcore.utils import *\n",
    "from rich import print"
   ]
  },
  {
   "cell_type": "code",
   "execution_count": null,
   "id": "aeb38b21",
   "metadata": {},
   "outputs": [],
   "source": [
    "#| export\n",
    "from nbdev import cli, release, config, quarto, doclinks, merge, migrate, sync\n",
    "from nbdev import clean as nbclean\n",
    "from nbdev import test as nbtest"
   ]
  },
  {
   "cell_type": "code",
   "execution_count": null,
   "id": "046e240d",
   "metadata": {},
   "outputs": [],
   "source": [
    "#| export\n",
    "# remove callparse\n",
    "nbdev_new = cli.nbdev_new.__wrapped__\n",
    "\n",
    "@delegates(nbdev_new)\n",
    "def new(path: pathlib.Path, **kwargs):\n",
    "    \"\"\"\n",
    "    Create an nbdev project.\n",
    "    \n",
    "    Example creating a new nb dev project in the same directory:\n",
    "    \"\"\"\n",
    "    kwargs['path'] = str(path)\n",
    "    return nbdev_new(**kwargs)\n",
    "new.panel = 'Getting started'"
   ]
  }
 ],
 "metadata": {
  "kernelspec": {
   "display_name": "python3",
   "language": "python",
   "name": "python3"
  }
 },
 "nbformat": 4,
 "nbformat_minor": 5
}
