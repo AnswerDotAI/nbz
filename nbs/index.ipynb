{
 "cells": [
  {
   "cell_type": "code",
   "execution_count": null,
   "metadata": {},
   "outputs": [],
   "source": [
    "#| hide\n",
    "from nbz.core import *"
   ]
  },
  {
   "cell_type": "markdown",
   "metadata": {},
   "source": [
    "# nbz\n",
    "\n",
    "> nbz is a typer-based wrapper around the incredible nbdev project.  "
   ]
  },
  {
   "cell_type": "markdown",
   "metadata": {},
   "source": [
    "![](nbz.png)"
   ]
  },
  {
   "cell_type": "markdown",
   "metadata": {},
   "source": [
    "[Check out the video demo](https://www.loom.com/share/5bbc2abcc73d45498be4259cb108dc64?sid=4b367d88-a20d-45d2-bea7-e569959e9e35)!\n"
   ]
  },
  {
   "cell_type": "markdown",
   "metadata": {},
   "source": [
    "[nbdev](https://nbdev.fast.ai/) is an incredible software development environment. You write code in notebooks and it exports the result to Python flatfiles. It also handles documentation, version releases, and so much more."
   ]
  },
  {
   "cell_type": "markdown",
   "metadata": {},
   "source": [
    "The goal of this project is to do the following, with items 2 and 3 being potential targets for upstream changes to nbdev:\n",
    "\n",
    "1. Wrap the nbdev command-line interface with [typer](https://typer.tiangolo.com/) to take advantage of some of the features of that framework (formatting, auto-completion, etc)\n",
    "2. Enhance the existing CLI documentation\n",
    "3. Add new features that may or may not fit in nbdev\n",
    "4. Provide an interface for other systems"
   ]
  },
  {
   "cell_type": "markdown",
   "metadata": {},
   "source": [
    "## Developer Guide"
   ]
  },
  {
   "cell_type": "markdown",
   "metadata": {},
   "source": [
    "If you are new to using `nbdev` here are some useful pointers to get you started."
   ]
  },
  {
   "cell_type": "markdown",
   "metadata": {},
   "source": [
    "### Install nbz in Development mode"
   ]
  },
  {
   "cell_type": "markdown",
   "metadata": {},
   "source": [
    "```sh\n",
    "# make sure nbz package is installed in development mode\n",
    "$ pip install -e .\n",
    "\n",
    "# make changes to nbs/core.ipynb\n",
    "# ...\n",
    "\n",
    "# compile to have changes apply to nbz\n",
    "\n",
    "$ nbz export\n",
    "$ nbz clean\n",
    "$ nbz trust\n",
    "```"
   ]
  },
  {
   "cell_type": "markdown",
   "metadata": {},
   "source": [
    "## Usage"
   ]
  },
  {
   "cell_type": "markdown",
   "metadata": {},
   "source": [
    "### Installation"
   ]
  },
  {
   "cell_type": "markdown",
   "metadata": {},
   "source": [
    "Install latest from the GitHub [repository][repo]:\n",
    "\n",
    "```sh\n",
    "$ pip install git+https://github.com/pydanny/nbz.git\n",
    "```\n",
    "\n",
    "COMING SOON: or from [conda][conda]\n",
    "\n",
    "```sh\n",
    "$ conda install -c pydanny nbz\n",
    "```\n",
    "\n",
    "COMING SOON: or from [pypi][pypi]\n",
    "\n",
    "\n",
    "```sh\n",
    "$ pip install nbz\n",
    "```\n",
    "\n",
    "\n",
    "[repo]: https://github.com/pydanny/nbz\n",
    "[docs]: https://pydanny.github.io/nbz/\n",
    "[pypi]: https://pypi.org/project/nbz/\n",
    "[conda]: https://anaconda.org/pydanny/nbz"
   ]
  },
  {
   "cell_type": "markdown",
   "metadata": {},
   "source": [
    "### Documentation"
   ]
  },
  {
   "cell_type": "markdown",
   "metadata": {},
   "source": [
    "Documentation can be found hosted on this GitHub [repository][repo]'s [pages][docs]. Additionally you can find package manager specific guidelines on [conda][conda] and [pypi][pypi] respectively.\n",
    "\n",
    "[repo]: https://github.com/pydanny/nbz\n",
    "[docs]: https://pydanny.github.io/nbz/\n",
    "[pypi]: https://pypi.org/project/nbz/\n",
    "[conda]: https://anaconda.org/pydanny/nbz"
   ]
  },
  {
   "cell_type": "markdown",
   "metadata": {},
   "source": [
    "## How to use"
   ]
  },
  {
   "cell_type": "markdown",
   "metadata": {},
   "source": [
    "Once installed, you can call help by typing out `nbz` at the command-line or `!nbz` in a notebook cell:"
   ]
  },
  {
   "cell_type": "markdown",
   "metadata": {},
   "source": [
    "```plaintext\n",
    "Usage: nbz [OPTIONS] COMMAND [ARGS]...\n",
    "\n",
    " nbz is a typer-based wrapper around the incredible nbdev project.\n",
    "\n",
    "╭─ Options ─────────────────────────────────────────────────────────────────╮\n",
    "│ --install-completion          Install completion for the current shell.   │\n",
    "│ --show-completion             Show completion for the current shell, to   │\n",
    "│                               copy it or customize the installation.      │\n",
    "│ --help                        Show this message and exit.                 │\n",
    "╰───────────────────────────────────────────────────────────────────────────╯\n",
    "╭─ nbdev.release ───────────────────────────────────────────────────────────╮\n",
    "│ bump-version     Increment version in settings.ini by one                 │\n",
    "│ changelog        Create a CHANGELOG.md file from closed and labeled       │\n",
    "│                  GitHub issues                                            │\n",
    "│ conda            Create a meta.yaml file ready to be built into a         │\n",
    "│                  package, and optionally build and upload it              │\n",
    "│ pypi             Create and upload Python package to PyPI                 │\n",
    "│ release-both     Release both conda and PyPI packages                     │\n",
    "│ release-gh       Calls nbdev_changelog, lets you edit the result, then    │\n",
    "│                  pushes to git and calls nbdev_release_git                │\n",
    "│ release-git      Tag and create a release in GitHub for the current       │\n",
    "│                  version                                                  │\n",
    "│ requirements     Writes a requirements.txt file to directory based on     │\n",
    "│                  settings.ini.                                            │\n",
    "╰───────────────────────────────────────────────────────────────────────────╯\n",
    "╭─ nbdev.clean ─────────────────────────────────────────────────────────────╮\n",
    "│ clean            Clean all notebooks in fname to avoid merge conflicts    │\n",
    "│ install-hooks    Install Jupyter and git hooks to automatically clean,    │\n",
    "│                  trust, and fix merge conflicts in notebooks              │\n",
    "│ trust            Trust notebooks matching fname                           │\n",
    "╰───────────────────────────────────────────────────────────────────────────╯\n",
    "╭─ nbdev.config ────────────────────────────────────────────────────────────╮\n",
    "│ create-config    Create a config file.                                    │\n",
    "╰───────────────────────────────────────────────────────────────────────────╯\n",
    "╭─ nbdev.quarto ────────────────────────────────────────────────────────────╮\n",
    "│ docs             Create Quarto docs and README.md                         │\n",
    "│ install          Install Quarto and the current library                   │\n",
    "│ install-quarto   Install latest Quarto on macOS or Linux, prints          │\n",
    "│                  instructions for Windows                                 │\n",
    "│ prepare          Export, test, and clean notebooks, and render README if  │\n",
    "│                  needed                                                   │\n",
    "│ preview          Preview docs locally                                     │\n",
    "│ proc-nbs         Process notebooks in path for docs rendering             │\n",
    "│ readme           Create README.md from readme_nb (index.ipynb by default) │\n",
    "│ sidebar          Create sidebar.yml                                       │\n",
    "╰───────────────────────────────────────────────────────────────────────────╯\n",
    "╭─ nbdev.cli ───────────────────────────────────────────────────────────────╮\n",
    "│ filter           A notebook filter for Quarto                             │\n",
    "│ new              Create an nbdev project.                                 │\n",
    "│ update-license   Allows you to update the license of your project.        │\n",
    "│ watch-export     Use nb_export on ipynb files in nbs directory on changes │\n",
    "│                  using nbdev config if available                          │\n",
    "╰───────────────────────────────────────────────────────────────────────────╯\n",
    "╭─ nbdev.merge ─────────────────────────────────────────────────────────────╮\n",
    "│ fix              Create working notebook from conflicted notebook nbname  │\n",
    "│ merge            Git merge driver for notebooks                           │\n",
    "╰───────────────────────────────────────────────────────────────────────────╯\n",
    "╭─ nbdev.migrate ───────────────────────────────────────────────────────────╮\n",
    "│ migrate          Convert all markdown and notebook files in path from v1  │\n",
    "│                  to v2                                                    │\n",
    "╰───────────────────────────────────────────────────────────────────────────╯\n",
    "╭─ nbdev.test ──────────────────────────────────────────────────────────────╮\n",
    "│ test             Test in parallel notebooks matching path, passing along  │\n",
    "│                  flags                                                    │\n",
    "╰───────────────────────────────────────────────────────────────────────────╯\n",
    "╭─ nbdev.sync ──────────────────────────────────────────────────────────────╮\n",
    "│ update           Propagate change in modules matching fname to notebooks  │\n",
    "│                  that created them                                        │\n",
    "╰───────────────────────────────────────────────────────────────────────────╯\n",
    "╭─ Not yet implemented ─────────────────────────────────────────────────────╮\n",
    "│ export           Not yet implemented                                      │\n",
    "│ export-cli       Not yet implemented                                      │\n",
    "╰───────────────────────────────────────────────────────────────────────────╯\n",
    "```"
   ]
  },
  {
   "cell_type": "markdown",
   "metadata": {},
   "source": [
    "To call one of these commands, call it as `nbz COMMAND`. So to create a new notebook you would type:\n",
    "\n",
    "```sh\n",
    "mkdir my-project\n",
    "cd my-project\n",
    "nbz new\n",
    "```"
   ]
  }
 ],
 "metadata": {
  "kernelspec": {
   "display_name": "python3",
   "language": "python",
   "name": "python3"
  }
 },
 "nbformat": 4,
 "nbformat_minor": 4
}
