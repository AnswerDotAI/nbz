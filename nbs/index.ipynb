{
 "cells": [
  {
   "cell_type": "code",
   "execution_count": null,
   "metadata": {},
   "outputs": [],
   "source": [
    "#| hide\n",
    "from nbz.core import *"
   ]
  },
  {
   "cell_type": "markdown",
   "metadata": {},
   "source": [
    "# nbz\n",
    "\n",
    "> nbz is a typer-based wrapper around the incredible nbdev project.  "
   ]
  },
  {
   "cell_type": "markdown",
   "metadata": {},
   "source": [
    "Check out the [video demo](https://www.loom.com/share/5bbc2abcc73d45498be4259cb108dc64?sid=4b367d88-a20d-45d2-bea7-e569959e9e35)!"
   ]
  },
  {
   "cell_type": "markdown",
   "metadata": {},
   "source": [
    "[nbdev](https://nbdev.fast.ai/) is an incredible software development environment. You write code in notebooks and it exports the result to Python flatfiles. It also handles documentation, version releases, and so much more."
   ]
  },
  {
   "cell_type": "markdown",
   "metadata": {},
   "source": [
    "The goal of this project is to do the following, with items 2 and 3 being potential targets for upstream changes to nbdev:\n",
    "\n",
    "1. Wrap the nbdev command-line interface with [typer](https://typer.tiangolo.com/) to take advantage of some of the features of that framework (formatting, auto-completion, etc)\n",
    "2. Enhance the existing CLI documentation\n",
    "3. Add new features that may or may not fit in nbdev\n",
    "4. Provide an interface for other systems"
   ]
  },
  {
   "cell_type": "markdown",
   "metadata": {},
   "source": [
    "## Developer Guide"
   ]
  },
  {
   "cell_type": "markdown",
   "metadata": {},
   "source": [
    "If you are new to using `nbdev` here are some useful pointers to get you started."
   ]
  },
  {
   "cell_type": "markdown",
   "metadata": {},
   "source": [
    "### Install nbz in Development mode"
   ]
  },
  {
   "cell_type": "markdown",
   "metadata": {},
   "source": [
    "```sh\n",
    "# make sure nbz package is installed in development mode\n",
    "$ pip install -e .\n",
    "\n",
    "# make changes to nbs/core.ipynb\n",
    "# ...\n",
    "\n",
    "# compile to have changes apply to nbz\n",
    "\n",
    "$ nbz export\n",
    "$ nbz clean\n",
    "$ nbz trust\n",
    "```"
   ]
  },
  {
   "cell_type": "markdown",
   "metadata": {},
   "source": [
    "## Usage"
   ]
  },
  {
   "cell_type": "markdown",
   "metadata": {},
   "source": [
    "### Installation"
   ]
  },
  {
   "cell_type": "markdown",
   "metadata": {},
   "source": [
    "Install latest from the GitHub [repository][repo]:\n",
    "\n",
    "```sh\n",
    "$ pip install git+https://github.com/pydanny/nbz.git\n",
    "```\n",
    "\n",
    "COMING SOON: or from [conda][conda]\n",
    "\n",
    "```sh\n",
    "$ conda install -c pydanny nbz\n",
    "```\n",
    "\n",
    "COMING SOON: or from [pypi][pypi]\n",
    "\n",
    "\n",
    "```sh\n",
    "$ pip install nbz\n",
    "```\n",
    "\n",
    "\n",
    "[repo]: https://github.com/pydanny/nbz\n",
    "[docs]: https://pydanny.github.io/nbz/\n",
    "[pypi]: https://pypi.org/project/nbz/\n",
    "[conda]: https://anaconda.org/pydanny/nbz"
   ]
  },
  {
   "cell_type": "markdown",
   "metadata": {},
   "source": [
    "### Documentation"
   ]
  },
  {
   "cell_type": "markdown",
   "metadata": {},
   "source": [
    "Documentation can be found hosted on this GitHub [repository][repo]'s [pages][docs]. Additionally you can find package manager specific guidelines on [conda][conda] and [pypi][pypi] respectively.\n",
    "\n",
    "[repo]: https://github.com/pydanny/nbz\n",
    "[docs]: https://pydanny.github.io/nbz/\n",
    "[pypi]: https://pypi.org/project/nbz/\n",
    "[conda]: https://anaconda.org/pydanny/nbz"
   ]
  },
  {
   "cell_type": "markdown",
   "metadata": {},
   "source": [
    "## Using nbz"
   ]
  },
  {
   "cell_type": "markdown",
   "metadata": {},
   "source": [
    "Once you've installed `nbz`, check that all dependencies have been installed and secrets have been configured with the `check` command:\n",
    "\n",
    "```bash\n",
    "nbz check\n",
    "```"
   ]
  },
  {
   "cell_type": "markdown",
   "metadata": {},
   "source": [
    "Now let's create a new project, which we'll call silo. From the directory where you create your projects, run the following command:"
   ]
  },
  {
   "cell_type": "markdown",
   "metadata": {},
   "source": [
    "```sh\n",
    "nbz new silo\n",
    "```"
   ]
  },
  {
   "cell_type": "markdown",
   "metadata": {},
   "source": [
    "This will attempt to infer your prefences from git, but for things it can't figure out, it will prompt you for answers:"
   ]
  },
  {
   "cell_type": "markdown",
   "metadata": {},
   "source": [
    "```bash\n",
    "Creating and changing to silo directory\n",
    "repo = nbz # Automatically inferred from git\n",
    "branch = main # Automatically inferred from git\n",
    "user = pydanny # Automatically inferred from git\n",
    "author = Daniel Roy Greenfeld # Automatically inferred from git\n",
    "author_email = daniel@feldroy.com # Automatically inferred from git\n",
    "description = nbz is a typer-based wrapper around the incredible nbdev project. # Automatically inferred from git\n",
    "settings.ini created.\n",
    "pandoc -o README.md\n",
    "  to: >-\n",
    "    commonmark+autolink_bare_uris+emoji+footnotes+gfm_auto_identifiers+pipe_tables+strikeout+task_lists+tex_math_dollars\n",
    "  output-file: index.html\n",
    "  standalone: true\n",
    "  default-image-extension: png\n",
    "\n",
    "metadata\n",
    "  description: nbz is a typer-based wrapper around the incredible nbdev project.\n",
    "  title: nbz\n",
    "\n",
    "Output created: _docs/README.md\n",
    "```"
   ]
  },
  {
   "cell_type": "code",
   "execution_count": null,
   "metadata": {},
   "outputs": [],
   "source": []
  }
 ],
 "metadata": {
  "kernelspec": {
   "display_name": "Python 3 (ipykernel)",
   "language": "python",
   "name": "python3"
  },
  "language_info": {
   "codemirror_mode": {
    "name": "ipython",
    "version": 3
   },
   "file_extension": ".py",
   "mimetype": "text/x-python",
   "name": "python",
   "nbconvert_exporter": "python",
   "pygments_lexer": "ipython3",
   "version": "3.12.6"
  }
 },
 "nbformat": 4,
 "nbformat_minor": 4
}
