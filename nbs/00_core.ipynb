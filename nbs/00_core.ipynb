{
 "cells": [
  {
   "cell_type": "markdown",
   "metadata": {},
   "source": [
    "# core\n",
    "\n",
    "> nbz is a typer-based wrapper around the incredible nbdev project."
   ]
  },
  {
   "cell_type": "code",
   "execution_count": null,
   "metadata": {},
   "outputs": [],
   "source": [
    "#| default_exp core"
   ]
  },
  {
   "cell_type": "code",
   "execution_count": null,
   "metadata": {},
   "outputs": [],
   "source": [
    "#| hide\n",
    "from nbdev.showdoc import *"
   ]
  },
  {
   "cell_type": "markdown",
   "metadata": {},
   "source": [
    "## Utility imports"
   ]
  },
  {
   "cell_type": "code",
   "execution_count": null,
   "metadata": {},
   "outputs": [],
   "source": [
    "#| export\n",
    "import types\n",
    "from functools import wraps\n",
    "import typer\n",
    "from typing_extensions import Annotated\n",
    "from fastcore.basics import *\n",
    "from fastcore.docments import *\n",
    "from fastcore.script import *\n",
    "from fastcore.test import *\n",
    "from fastcore.utils import *\n",
    "from rich.console import Console\n",
    "from rich import print"
   ]
  },
  {
   "cell_type": "markdown",
   "metadata": {},
   "source": [
    "## nbdev command imports"
   ]
  },
  {
   "cell_type": "code",
   "execution_count": null,
   "metadata": {},
   "outputs": [],
   "source": [
    "#| export\n",
    "from nbdev import cli, release, config, quarto, doclinks, merge, migrate, sync\n",
    "from nbdev import clean as nbclean\n",
    "from nbdev import test as nbtest\n",
    "from nbz.commands import *"
   ]
  },
  {
   "cell_type": "code",
   "execution_count": null,
   "metadata": {},
   "outputs": [],
   "source": [
    "#| export\n",
    "app = typer.Typer(rich_markup_mode=\"markdown\")"
   ]
  },
  {
   "cell_type": "markdown",
   "metadata": {},
   "source": [
    "## Help controller"
   ]
  },
  {
   "cell_type": "markdown",
   "metadata": {},
   "source": [
    "This is what allows us to type `nbz` and get the help display."
   ]
  },
  {
   "cell_type": "code",
   "execution_count": null,
   "metadata": {},
   "outputs": [],
   "source": [
    "#| export\n",
    "@app.callback(invoke_without_command=True)\n",
    "def helper(ctx: typer.Context):\n",
    "    \"\"\"\n",
    "    nbz is a typer-based wrapper around the incredible nbdev project.\n",
    "    \"\"\"\n",
    "    if ctx.invoked_subcommand is None:\n",
    "        typer.echo(ctx.get_help())       "
   ]
  },
  {
   "cell_type": "markdown",
   "metadata": {},
   "source": [
    "## functions to typer commands"
   ]
  },
  {
   "cell_type": "code",
   "execution_count": null,
   "metadata": {},
   "outputs": [],
   "source": [
    "#| export\n",
    "commands = {\n",
    "    # Installation\n",
    "    'install': install,    \n",
    "    'check': check,\n",
    "    \n",
    "    # Getting started\n",
    "    'new': new,    \n",
    "    \n",
    "    # Exporting\n",
    "    'export': export, \n",
    "    'export_nb': export_nb,\n",
    "    \n",
    "    # Releasing\n",
    "    'bump_version': bump_version,\n",
    "    'unbump_version': unbump_version,\n",
    "    'release_git': release_git,    \n",
    "    \n",
    "    # Legacy\n",
    "    'clean':nbclean.nbdev_clean,        \n",
    "    'changelog': release.changelog,\n",
    "    'conda': release.release_conda, \n",
    "    'create_config': config.nbdev_create_config,  \n",
    "    'docs': quarto.nbdev_docs,\n",
    "    'filter': cli.nbdev_filter,\n",
    "    'fix': merge.nbdev_fix,    \n",
    "    'install_hooks': nbclean.nbdev_install_hooks,\n",
    "    'merge': merge.nbdev_merge,\n",
    "    'migrate': migrate.nbdev_migrate,    \n",
    "\t'prepare': quarto.prepare,\n",
    "\t'preview': quarto.nbdev_preview,\n",
    "    'proc_nbs': quarto.nbdev_proc_nbs,\n",
    "    'pypi': release.release_pypi, \n",
    "\t'readme': quarto.nbdev_readme,\n",
    "    'release_both': release.release_both,\n",
    "    'release_gh': release.release_gh,    \n",
    "    'requirements': release.write_requirements,\n",
    "    'sidebar': quarto.nbdev_sidebar,\n",
    "    'test': nbtest.nbdev_test,\n",
    "    'trust': nbclean.nbdev_trust,\n",
    "    'update': sync.nbdev_update,\n",
    "    'update_license': cli.nbdev_update_license,\n",
    "    'watch_export': cli.watch_export\n",
    "}"
   ]
  },
  {
   "cell_type": "markdown",
   "metadata": {},
   "source": [
    "Loop through the commands, prep them, and add them as typer commands to the global namespace."
   ]
  },
  {
   "cell_type": "code",
   "execution_count": null,
   "metadata": {},
   "outputs": [],
   "source": [
    "#| export\n",
    "console = Console()\n",
    "for fname,func in commands.items():\n",
    "\n",
    "    # Remove call_parse so it doesn't conflict with typer\n",
    "    if getattr(func, 'call_parse_gone', False): pass\n",
    "    else: func = getattr(func, '__wrapped__', func)\n",
    "\n",
    "    # add to typer.app and \n",
    "    kwargs = dict(\n",
    "        # Assign to panel\n",
    "        rich_help_panel=getattr(func, 'rich_help_panel', func.__module__),\n",
    "        no_args_is_help=getattr(func,'no_args_is_help',False)\n",
    "    )\n",
    "    func = app.command(**kwargs)(func)\n",
    "\n",
    "    # Prep the annotations to map accurately to typer\n",
    "    arguments = docments(func, full=True)\n",
    "    \n",
    "    for arg, meta in arguments.items():\n",
    "        # This next two lines might be simplistic and could cause errors                \n",
    "        if isinstance(meta['anno'], str) and meta['anno'] == 'store_true': meta['anno'] = bool\n",
    "        if meta['anno'] in (bool_arg, store_true): meta['anno'] = bool\n",
    "        func.__annotations__[arg] = Annotated[meta['anno'], typer.Argument()]\n",
    "    # Fix the name\n",
    "    func.__name__ = fname\n",
    "\n",
    "    # Save to the global names \n",
    "    globals()[fname] = func"
   ]
  },
  {
   "cell_type": "code",
   "execution_count": null,
   "metadata": {},
   "outputs": [
    {
     "name": "stderr",
     "output_type": "stream",
     "text": [
      "\u001b[1mpandoc -o README.md\u001b[22m\n",
      "  to: >-\n",
      "    commonmark+autolink_bare_uris+emoji+footnotes+gfm_auto_identifiers+pipe_tables+strikeout+task_lists+tex_math_dollars\n",
      "  output-file: index.html\n",
      "  standalone: true\n",
      "  default-image-extension: png\n",
      "  \n",
      "\u001b[1mmetadata\u001b[22m\n",
      "  description: nbz is a typer-based wrapper around the incredible nbdev project.\n",
      "  title: nbz\n",
      "  \n",
      "Output created: _docs/README.md\n",
      "\n"
     ]
    }
   ],
   "source": [
    "readme()"
   ]
  },
  {
   "cell_type": "markdown",
   "metadata": {},
   "source": [
    "## Functions that are 'Not Implemented Yet'"
   ]
  },
  {
   "cell_type": "code",
   "execution_count": null,
   "metadata": {},
   "outputs": [],
   "source": [
    "#| export\n",
    "# Not yet implemented\n",
    "nyi_commands = {\n",
    "    'export_cli': cli.nb_export_cli,\n",
    "}"
   ]
  },
  {
   "cell_type": "code",
   "execution_count": null,
   "metadata": {},
   "outputs": [],
   "source": [
    "#| export\n",
    "def add_nyi_command(fname):\n",
    "    @app.command(rich_help_panel='Not yet implemented')\n",
    "    def func():\n",
    "        'Not yet implemented'\n",
    "        print(f'[red][b]ERROR: {func.__doc__}[/b][/red]')\n",
    "    func.__name__ = fname\n",
    "    globals()[fname] = func"
   ]
  },
  {
   "cell_type": "code",
   "execution_count": null,
   "metadata": {},
   "outputs": [],
   "source": [
    "add_nyi_command('test_func')\n",
    "func = globals()['test_func']\n",
    "test_eq(func.__name__, 'test_func')"
   ]
  },
  {
   "cell_type": "code",
   "execution_count": null,
   "metadata": {},
   "outputs": [],
   "source": [
    "#| export\n",
    "# Add NYI panel\n",
    "for fname in nyi_commands.keys():\n",
    "    add_nyi_command(fname)"
   ]
  },
  {
   "cell_type": "code",
   "execution_count": null,
   "metadata": {},
   "outputs": [],
   "source": [
    "#| hide\n",
    "import nbdev; nbdev.nbdev_export()"
   ]
  }
 ],
 "metadata": {
  "kernelspec": {
   "display_name": "python3",
   "language": "python",
   "name": "python3"
  }
 },
 "nbformat": 4,
 "nbformat_minor": 4
}
