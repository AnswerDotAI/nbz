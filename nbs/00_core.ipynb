{
 "cells": [
  {
   "cell_type": "markdown",
   "metadata": {},
   "source": [
    "# core\n",
    "\n",
    "> Fill in a module description here"
   ]
  },
  {
   "cell_type": "code",
   "execution_count": null,
   "metadata": {},
   "outputs": [],
   "source": [
    "#| default_exp core"
   ]
  },
  {
   "cell_type": "code",
   "execution_count": null,
   "metadata": {},
   "outputs": [],
   "source": [
    "#| hide\n",
    "from nbdev.showdoc import *"
   ]
  },
  {
   "cell_type": "code",
   "execution_count": null,
   "metadata": {},
   "outputs": [],
   "source": [
    "import types\n",
    "from functools import wraps\n",
    "import typer\n",
    "from typing_extensions import Annotated\n",
    "from fastcore.docments import *\n",
    "from fastcore.all import *\n",
    "from nbdev import cli\n",
    "from nbdev import clean as n_clean\n",
    "from rich import print"
   ]
  },
  {
   "cell_type": "code",
   "execution_count": null,
   "metadata": {},
   "outputs": [],
   "source": [
    "app = typer.Typer()"
   ]
  },
  {
   "cell_type": "code",
   "execution_count": null,
   "metadata": {},
   "outputs": [],
   "source": [
    "\n",
    "\n",
    "commands = {\n",
    "    'clean':n_clean.nbdev_clean\n",
    "}\n",
    "\n",
    "for fname,func in commands.items():\n",
    "    # Add to typer.app\n",
    "    func = app.command()(func)    \n",
    "\n",
    "    # Prep the annotations\n",
    "    arguments = docments(func, full=True)\n",
    "    for arg, meta in arguments.items():\n",
    "        if (meta['anno'] is bool_arg): \n",
    "            meta['anno'] = bool\n",
    "        func.__annotations__[arg] = Annotated[meta['anno'], typer.Argument()]    \n",
    "\n",
    "    globals()[fname] = func\n"
   ]
  },
  {
   "cell_type": "code",
   "execution_count": null,
   "metadata": {},
   "outputs": [
    {
     "data": {
      "text/plain": [
       "<function nbdev.clean.nbdev_clean(fname: Annotated[str, <typer.models.ArgumentInfo object>] = None, clear_all: Annotated[bool, <typer.models.ArgumentInfo object>] = False, disp: Annotated[bool, <typer.models.ArgumentInfo object>] = False, stdin: Annotated[bool, <typer.models.ArgumentInfo object>] = False) -> Annotated[inspect._empty, <typer.models.ArgumentInfo object>]>"
      ]
     },
     "execution_count": null,
     "metadata": {},
     "output_type": "execute_result"
    }
   ],
   "source": [
    "clean"
   ]
  },
  {
   "cell_type": "code",
   "execution_count": null,
   "metadata": {},
   "outputs": [],
   "source": [
    "#| hide\n",
    "import nbdev; nbdev.nbdev_export()"
   ]
  }
 ],
 "metadata": {
  "kernelspec": {
   "display_name": "python3",
   "language": "python",
   "name": "python3"
  }
 },
 "nbformat": 4,
 "nbformat_minor": 4
}
