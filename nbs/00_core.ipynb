{
 "cells": [
  {
   "cell_type": "markdown",
   "metadata": {},
   "source": [
    "# core\n",
    "\n",
    "> TODO: Migrate most logic from nbz/cli.py to here, and add tests. See https://github.com/pydanny/nbz/issues/5"
   ]
  },
  {
   "cell_type": "code",
   "execution_count": null,
   "metadata": {},
   "outputs": [],
   "source": [
    "#| default_exp core"
   ]
  },
  {
   "cell_type": "code",
   "execution_count": null,
   "metadata": {},
   "outputs": [],
   "source": [
    "#| hide\n",
    "from nbdev.showdoc import *"
   ]
  },
  {
   "cell_type": "markdown",
   "metadata": {},
   "source": [
    "## Utility imports"
   ]
  },
  {
   "cell_type": "code",
   "execution_count": null,
   "metadata": {},
   "outputs": [],
   "source": [
    "#| export\n",
    "import types\n",
    "from functools import wraps\n",
    "import typer\n",
    "from typing_extensions import Annotated\n",
    "from fastcore.docments import *\n",
    "from fastcore.all import *\n",
    "from rich import print"
   ]
  },
  {
   "cell_type": "markdown",
   "metadata": {},
   "source": [
    "## nbdev command imports"
   ]
  },
  {
   "cell_type": "code",
   "execution_count": null,
   "metadata": {},
   "outputs": [],
   "source": [
    "#| export\n",
    "from nbdev import cli, release, config, quarto, doclinks, merge, migrate, sync\n",
    "from nbdev import clean as nbclean\n",
    "from nbdev import test as nbtest"
   ]
  },
  {
   "cell_type": "code",
   "execution_count": null,
   "metadata": {},
   "outputs": [],
   "source": [
    "#| export\n",
    "app = typer.Typer(rich_markup_mode=\"markdown\")"
   ]
  },
  {
   "cell_type": "code",
   "execution_count": null,
   "metadata": {},
   "outputs": [],
   "source": [
    "#| export\n",
    "@app.callback(invoke_without_command=True)\n",
    "def helper(ctx: typer.Context):\n",
    "    \"\"\"\n",
    "    nbz is a typer-based wrapper around the incredible nbdev project.\n",
    "    \"\"\"\n",
    "    if ctx.invoked_subcommand is None:\n",
    "        typer.echo(ctx.get_help())"
   ]
  },
  {
   "cell_type": "markdown",
   "metadata": {},
   "source": [
    "## Map of commands implemented"
   ]
  },
  {
   "cell_type": "code",
   "execution_count": null,
   "metadata": {},
   "outputs": [],
   "source": [
    "#| export\n",
    "commands = {\n",
    "    'bump_version': release.nbdev_bump_version,        \n",
    "    'clean':nbclean.nbdev_clean,        \n",
    "    'changelog': release.changelog,\n",
    "    'conda': release.release_conda, \n",
    "    'create_config': config.nbdev_create_config,  \n",
    "    'docs': quarto.nbdev_docs,\n",
    "    'filter': cli.nbdev_filter,\n",
    "    'fix': merge.nbdev_fix,\n",
    "    'install': quarto.install,\n",
    "    'install_hooks': nbclean.nbdev_install_hooks,\n",
    "    'install_quarto': quarto.install_quarto,\n",
    "    'merge': merge.nbdev_merge,\n",
    "    'migrate': migrate.nbdev_migrate,    \n",
    "    'new': cli.nbdev_new,    \n",
    "\t'prepare': quarto.prepare,\n",
    "\t'preview': quarto.nbdev_preview,\n",
    "    'proc_nbs': quarto.nbdev_proc_nbs,\n",
    "    'pypi': release.release_pypi, \n",
    "\t'readme': quarto.nbdev_readme,\n",
    "    'release_both': release.release_both,\n",
    "    'release_gh': release.release_gh,\n",
    "    'release_git': release.release_git,       \n",
    "    'requirements': release.write_requirements,\n",
    "    'sidebar': quarto.nbdev_sidebar,\n",
    "    'test': nbtest.nbdev_test,\n",
    "    'trust': nbclean.nbdev_trust,\n",
    "    'update': sync.nbdev_update,\n",
    "    'update_license': cli.nbdev_update_license,\n",
    "    'watch_export': cli.watch_export\n",
    "}"
   ]
  },
  {
   "cell_type": "code",
   "execution_count": null,
   "metadata": {},
   "outputs": [],
   "source": [
    "#| export\n",
    "# Install the commands into the global namespace\n",
    "for fname,func in commands.items():\n",
    "    # Remove call_parse so it doesn't conflict with typer\n",
    "    func = func.__wrapped__\n",
    "\n",
    "    # Add to typer.app and assign to panel\n",
    "    func = app.command(rich_help_panel=func.__module__)(func)\n",
    "\n",
    "    # Prep the annotations to map accurately to typer\n",
    "    arguments = docments(func, full=True)\n",
    "    for arg, meta in arguments.items():\n",
    "        # This next line might be simplistic and could cause errors\n",
    "        if meta['anno'] in (bool_arg, store_true): meta['anno'] = bool\n",
    "        func.__annotations__[arg] = Annotated[meta['anno'], typer.Argument()]\n",
    "\n",
    "    # Fix the name\n",
    "    func.__name__ = fname\n",
    "\n",
    "    # Save to the global namespace\n",
    "    globals()[fname] = func"
   ]
  },
  {
   "cell_type": "code",
   "execution_count": null,
   "metadata": {},
   "outputs": [],
   "source": [
    "#| export\n",
    "# Not yet implemented\n",
    "# TODO: fix store_true on these commands. \n",
    "nyi_commands = {\n",
    "    'export': doclinks.nbdev_export,\n",
    "    'export_cli': cli.nb_export_cli,\n",
    "}"
   ]
  },
  {
   "cell_type": "code",
   "execution_count": null,
   "metadata": {},
   "outputs": [],
   "source": [
    "#| export\n",
    "# Add NYI panel\n",
    "for fname in nyi_commands.keys():\n",
    "    @app.command(rich_help_panel='Not yet implemented')\n",
    "    def func():\n",
    "        'Not yet implemented'\n",
    "        print(f'[red][b]ERROR: {func.__doc__}[/b][/red]')\n",
    "    func.__name__ = fname\n",
    "    globals()[fname] = func"
   ]
  },
  {
   "cell_type": "code",
   "execution_count": null,
   "metadata": {},
   "outputs": [],
   "source": [
    "#| export\n",
    "if not IN_NOTEBOOK and __name__ == '__main__':\n",
    "    app()"
   ]
  },
  {
   "cell_type": "code",
   "execution_count": null,
   "metadata": {},
   "outputs": [],
   "source": [
    "#| hide\n",
    "import nbdev; nbdev.nbdev_export()"
   ]
  }
 ],
 "metadata": {
  "kernelspec": {
   "display_name": "python3",
   "language": "python",
   "name": "python3"
  }
 },
 "nbformat": 4,
 "nbformat_minor": 4
}
